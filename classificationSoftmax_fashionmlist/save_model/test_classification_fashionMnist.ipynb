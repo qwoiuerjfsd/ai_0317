{
 "cells": [
  {
   "cell_type": "code",
   "execution_count": 16,
   "id": "05a444a1-ef4b-42b9-ab86-c02a9b52c07f",
   "metadata": {},
   "outputs": [
    {
     "name": "stdout",
     "output_type": "stream",
     "text": [
      "Model: \"sequential_3\"\n",
      "_________________________________________________________________\n",
      " Layer (type)                Output Shape              Param #   \n",
      "=================================================================\n",
      " flatten_3 (Flatten)         (None, 784)               0         \n",
      "                                                                 \n",
      " dense_3 (Dense)             (None, 10)                7850      \n",
      "                                                                 \n",
      "=================================================================\n",
      "Total params: 7,850\n",
      "Trainable params: 7,850\n",
      "Non-trainable params: 0\n",
      "_________________________________________________________________\n"
     ]
    }
   ],
   "source": [
    "#Test_classification_fashionMnist\n",
    "import tensorflow as tf\n",
    "model = tf.keras.models.load_model( r\"./fashion_mnist_classification.keras\")\n",
    "model.summary()"
   ]
  },
  {
   "cell_type": "code",
   "execution_count": 17,
   "id": "987af539-3bc7-4f1e-ae76-e3f50b068895",
   "metadata": {},
   "outputs": [
    {
     "name": "stdout",
     "output_type": "stream",
     "text": [
      "['T-shirt/top', 'Trouser', 'Pullover', 'Dress', 'Coat', 'Sandal', 'Shirt', 'Sneaker', 'Bag', 'Ankle boot']\n",
      "['Trouser']\n"
     ]
    }
   ],
   "source": [
    "import pickle\n",
    "encoder=None\n",
    "with open(r\"./fashion_mnist.classification_encoder\",\"rb\") as fp:\n",
    "    encoder = pickle.load(fp)\n",
    "print(encoder.one_hot_to_label([[0,1,0,0,0,0,0,0,0,0]]))\n"
   ]
  },
  {
   "cell_type": "code",
   "execution_count": 18,
   "id": "c0afb985-fc61-4995-80bf-3a0b1248c899",
   "metadata": {},
   "outputs": [
    {
     "name": "stdout",
     "output_type": "stream",
     "text": [
      "Found 5 files belonging to 1 classes.\n",
      "<class 'tensorflow.python.data.ops.dataset_ops.BatchDataset'>\n",
      "(5, 28, 28)\n",
      "9.0\n",
      "135.0\n",
      "223.0\n",
      "135.0\n",
      "226.0\n"
     ]
    }
   ],
   "source": [
    "datasets = tf.keras.preprocessing.image_dataset_from_directory(\n",
    "    r\"D:\\jupyter_work\\data\\test_img\",\n",
    "    labels=None,\n",
    "    color_mode='grayscale',\n",
    "    image_size=(28, 28),\n",
    "    interpolation='nearest')\n",
    "print(type(datasets))\n",
    "import numpy as np\n",
    "x_real = np.array([ d for d in datasets][0])\n",
    "x_real = x_real.reshape(len(x_real),28,28)\n",
    "x_real = 255.-x_real\n",
    "print(x_real.shape)\n",
    "for data in x_real:\n",
    "    bakcolor_value = max(data[0]) if max(data[0]) - max(data[-1]) > 0 else max(data[-1])\n",
    "    maskdata = data>bakcolor_value\n",
    "    data = data[maskdata]\n",
    "    print(data[0])"
   ]
  },
  {
   "cell_type": "code",
   "execution_count": 19,
   "id": "cd5954b8-8c11-48c9-8078-9d861aa9955a",
   "metadata": {},
   "outputs": [
    {
     "data": {
      "image/png": "[encoded data removed]",
      "text/plain": [
       "<Figure size 100x100 with 1 Axes>"
      ]
     },
     "metadata": {},
     "output_type": "display_data"
    },
    {
     "name": "stdout",
     "output_type": "stream",
     "text": [
      "1. T-shirt/top\t2. Trouser\t3. Pullover\t4. Dress\t5. Coat\t6. Sandal\t7. Shirt\t8. Sneaker\t9. Bag\t10. Ankle boot\t\n"
     ]
    },
    {
     "name": "stdin",
     "output_type": "stream",
     "text": [
      "이미지 정답 라벨 번호를 입력하세요\n",
      " 2\n"
     ]
    },
    {
     "data": {
      "image/png": "[encoded data removed]",
      "text/plain": [
       "<Figure size 640x480 with 1 Axes>"
      ]
     },
     "metadata": {},
     "output_type": "display_data"
    },
    {
     "name": "stdout",
     "output_type": "stream",
     "text": [
      "1. T-shirt/top\t2. Trouser\t3. Pullover\t4. Dress\t5. Coat\t6. Sandal\t7. Shirt\t8. Sneaker\t9. Bag\t10. Ankle boot\t\n"
     ]
    },
    {
     "name": "stdin",
     "output_type": "stream",
     "text": [
      "이미지 정답 라벨 번호를 입력하세요\n",
      " 9\n"
     ]
    },
    {
     "data": {
      "image/png": "[encoded data removed]",
      "text/plain": [
       "<Figure size 640x480 with 1 Axes>"
      ]
     },
     "metadata": {},
     "output_type": "display_data"
    },
    {
     "name": "stdout",
     "output_type": "stream",
     "text": [
      "1. T-shirt/top\t2. Trouser\t3. Pullover\t4. Dress\t5. Coat\t6. Sandal\t7. Shirt\t8. Sneaker\t9. Bag\t10. Ankle boot\t\n"
     ]
    },
    {
     "name": "stdin",
     "output_type": "stream",
     "text": [
      "이미지 정답 라벨 번호를 입력하세요\n",
      " 6\n"
     ]
    },
    {
     "data": {
      "image/png": "[encoded data removed]",
      "text/plain": [
       "<Figure size 640x480 with 1 Axes>"
      ]
     },
     "metadata": {},
     "output_type": "display_data"
    },
    {
     "name": "stdout",
     "output_type": "stream",
     "text": [
      "1. T-shirt/top\t2. Trouser\t3. Pullover\t4. Dress\t5. Coat\t6. Sandal\t7. Shirt\t8. Sneaker\t9. Bag\t10. Ankle boot\t\n"
     ]
    },
    {
     "name": "stdin",
     "output_type": "stream",
     "text": [
      "이미지 정답 라벨 번호를 입력하세요\n",
      " 9\n"
     ]
    },
    {
     "data": {
      "image/png": "[encoded data removed]",
      "text/plain": [
       "<Figure size 640x480 with 1 Axes>"
      ]
     },
     "metadata": {},
     "output_type": "display_data"
    },
    {
     "name": "stdout",
     "output_type": "stream",
     "text": [
      "1. T-shirt/top\t2. Trouser\t3. Pullover\t4. Dress\t5. Coat\t6. Sandal\t7. Shirt\t8. Sneaker\t9. Bag\t10. Ankle boot\t\n"
     ]
    },
    {
     "name": "stdin",
     "output_type": "stream",
     "text": [
      "이미지 정답 라벨 번호를 입력하세요\n",
      " 10\n"
     ]
    },
    {
     "name": "stdout",
     "output_type": "stream",
     "text": [
      "['Trouser', 'Bag', 'Sandal', 'Bag', 'Ankle boot']\n"
     ]
    }
   ],
   "source": [
    "import matplotlib.pyplot as plt\n",
    "y_real=[]\n",
    "label_list = [\"T-shirt/top\",\"Trouser\",\"Pullover\",\"Dress\",\"Coat\",\n",
    "            \"Sandal\",\"Shirt\",\"Sneaker\",\"Bag\",\"Ankle boot\"]\n",
    "plt.figure(figsize=(1,1))\n",
    "for ix in range(len(x_real)):\n",
    "    plt.imshow(x_real[ix])\n",
    "    plt.xticks([]);plt.yticks([])\n",
    "    plt.show()\n",
    "    for i in range(len(label_list)):\n",
    "        print(f\"{i+1}. {label_list[i]}\\t\",end=\"\")\n",
    "    print()\n",
    "    usersel = input(\"이미지 정답 라벨 번호를 입력하세요\\n\")\n",
    "    y_real.append(label_list[int(usersel)-1])\n",
    "print(y_real)\n",
    "    "
   ]
  },
  {
   "cell_type": "code",
   "execution_count": 20,
   "id": "5d3d45d1-ac14-46fd-bc05-7f4d77c2d9c0",
   "metadata": {},
   "outputs": [
    {
     "name": "stdout",
     "output_type": "stream",
     "text": [
      "(5, 28, 28)\n",
      "['Trouser', 'Bag', 'Sandal', 'Bag', 'Ankle boot']\n"
     ]
    }
   ],
   "source": [
    "print(x_real.shape)\n",
    "print(y_real)"
   ]
  },
  {
   "cell_type": "code",
   "execution_count": 21,
   "id": "0a7d9063-afde-4d0e-8e64-c19fd7ea60d8",
   "metadata": {},
   "outputs": [
    {
     "name": "stdout",
     "output_type": "stream",
     "text": [
      "1/1 [==============================] - 0s 38ms/step\n",
      "(5, 10)\n",
      "[[0. 1. 0. 0. 0. 0. 0. 0. 0. 0.]\n",
      " [0. 0. 0. 0. 0. 0. 0. 0. 1. 0.]\n",
      " [0. 0. 0. 0. 0. 0. 0. 0. 1. 0.]\n",
      " [0. 0. 0. 0. 0. 0. 0. 0. 1. 0.]\n",
      " [0. 0. 0. 0. 0. 0. 0. 0. 0. 1.]]\n"
     ]
    }
   ],
   "source": [
    "y_pred = model.predict(x_real)\n",
    "print(y_pred.shape)\n",
    "print(y_pred)"
   ]
  },
  {
   "cell_type": "code",
   "execution_count": 22,
   "id": "92b9b9ab-bd53-45d3-b377-76718f517b0c",
   "metadata": {},
   "outputs": [
    {
     "name": "stdout",
     "output_type": "stream",
     "text": [
      "['T-shirt/top', 'Trouser', 'Pullover', 'Dress', 'Coat', 'Sandal', 'Shirt', 'Sneaker', 'Bag', 'Ankle boot']\n",
      "['Trouser', 'Bag', 'Bag', 'Bag', 'Ankle boot']\n"
     ]
    }
   ],
   "source": [
    "y_pred = encoder.one_hot_to_label(y_pred)\n",
    "print(y_pred)\n"
   ]
  },
  {
   "cell_type": "code",
   "execution_count": 23,
   "id": "e2768ede-32fa-4912-8a12-8db16928bc48",
   "metadata": {},
   "outputs": [
    {
     "data": {
      "image/png": "[encoded data removed]",
      "text/plain": [
       "<Figure size 640x480 with 5 Axes>"
      ]
     },
     "metadata": {},
     "output_type": "display_data"
    }
   ],
   "source": [
    "for ix in range(len(y_pred)):\n",
    "    plt.subplot(1,5,ix+1)\n",
    "    plt.imshow(x_real[ix])\n",
    "    clr = \"blue\"\n",
    "    if y_real[ix]== y_pred[ix]:clr=\"red\"\n",
    "    plt.xticks([]);plt.yticks([])\n",
    "    plt.title(y_real[ix],color=clr)\n",
    "    plt.xlabel(y_pred[ix],color=clr)\n",
    "\n",
    "plt.show()"
   ]
  },
  {
   "cell_type": "code",
   "execution_count": null,
   "id": "5da818d7-c679-4bd2-828d-0fdcb851b6c5",
   "metadata": {},
   "outputs": [],
   "source": []
  }
 ],
 "metadata": {
  "kernelspec": {
   "display_name": "Python 3 (ipykernel)",
   "language": "python",
   "name": "python3"
  },
  "language_info": {
   "codemirror_mode": {
    "name": "ipython",
    "version": 3
   },
   "file_extension": ".py",
   "mimetype": "text/x-python",
   "name": "python",
   "nbconvert_exporter": "python",
   "pygments_lexer": "ipython3",
   "version": "3.9.0"
  }
 },
 "nbformat": 4,
 "nbformat_minor": 5
}
