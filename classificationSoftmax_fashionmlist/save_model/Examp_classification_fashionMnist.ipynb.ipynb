{
 "cells": [
  {
   "cell_type": "code",
   "execution_count": 7,
   "id": "0d162317-478f-4a64-9fbc-0ccd545cd658",
   "metadata": {},
   "outputs": [],
   "source": [
    "#Examp_classification_fashionMnist.ipynb\n",
    "#1. 필요라이브러리 임포트\n",
    "import tensorflow as tf\n",
    "import matplotlib.pyplot as plt\n",
    "import numpy as np\n",
    "from tensorflow.keras import Input, Sequential\n",
    "from tensorflow.keras.layers import Dense"
   ]
  },
  {
   "cell_type": "code",
   "execution_count": 8,
   "id": "a6d94716-9351-4a11-8673-9c2d40b9b5f2",
   "metadata": {},
   "outputs": [],
   "source": [
    "(x_train, y_train), (x_test, y_test) = tf.keras.datasets.fashion_mnist.load_data()\n",
    "y_labels = [\"T-shirt/top\",\"Trouser\",\"Pullover\",\"Dress\",\"Coat\",\n",
    "            \"Sandal\",\"Shirt\",\"Sneaker\",\"Bag\",\"Ankle boot\"]\n",
    "#Label \tDescription\n",
    "# 0 \tT-shirt/top\n",
    "# 1 \tTrouser\n",
    "# 2 \tPullover\n",
    "# 3 \tDress\n",
    "# 4 \tCoat\n",
    "# 5 \tSandal\n",
    "# 6 \tShirt\n",
    "# 7 \tSneaker\n",
    "# 8 \tBag\n",
    "# 9 \tAnkle boot\n"
   ]
  },
  {
   "cell_type": "code",
   "execution_count": 9,
   "id": "292988bf-4941-44c7-95d8-ebea12cfa072",
   "metadata": {},
   "outputs": [
    {
     "name": "stdout",
     "output_type": "stream",
     "text": [
      "(60000, 28, 28)\n",
      "(10000, 28, 28)\n",
      "(60000,)\n",
      "(10000,)\n",
      "[  0   0   0   0   0   0   0   0   0   0  93 141 151 207  55 196 171 196\n",
      "  58   0   0   0   0   0   0   0   0   0]\n",
      "255\n",
      "0\n",
      "9\n"
     ]
    }
   ],
   "source": [
    "print(x_train.shape)\n",
    "print(x_test.shape)\n",
    "print(y_train.shape)\n",
    "print(y_test.shape)\n",
    "print(x_train[1000,14])\n",
    "print(np.max(x_train))\n",
    "print(np.min(x_train))\n",
    "print(np.max(y_train))\n",
    "# one hot encoding\n",
    "# 0  [1 0 0 0 0 0 0 0 0 0]\n",
    "# 2  [0 0 1 0 0 0 0 0 0 0]\n",
    "# 9  [0,0,0,0,0,0,0,0,0,1]\n",
    "#문제데이터 표준화 필요\n",
    "#정답은 원핫인코딩이 필요 #(sklean train_test_split 분할은 원핫 인코딩 전에 해야합니다.)\n"
   ]
  },
  {
   "cell_type": "code",
   "execution_count": 10,
   "id": "72d6a8ba-5bba-42db-a2d7-b50d3d609b7b",
   "metadata": {},
   "outputs": [
    {
     "name": "stdout",
     "output_type": "stream",
     "text": [
      "[0.         0.         0.         0.         0.         0.\n",
      " 0.         0.         0.         0.         0.36470588 0.55294118\n",
      " 0.59215686 0.81176471 0.21568627 0.76862745 0.67058824 0.76862745\n",
      " 0.22745098 0.         0.         0.         0.         0.\n",
      " 0.         0.         0.         0.        ]\n"
     ]
    }
   ],
   "source": [
    "# 2. 데이터 정규화 min max\n",
    "x_train = x_train/255.\n",
    "x_test = x_test/255.\n",
    "print(x_train[1000,14])"
   ]
  },
  {
   "cell_type": "code",
   "execution_count": 11,
   "id": "4d8c752d-ccba-4caf-b46d-80546a1cbb6f",
   "metadata": {},
   "outputs": [
    {
     "name": "stdout",
     "output_type": "stream",
     "text": [
      "(60000, 28, 28)\n",
      "1\n"
     ]
    }
   ],
   "source": [
    "#3. np.random.shuffle\n",
    "from sklearn.utils import shuffle\n",
    "x_train,y_train=shuffle(x_train,y_train, random_state=123)#훈련데이터 셔플\n",
    "x_train = np.array(x_train)\n",
    "y_train = np.array(y_train)\n",
    "print(x_train.shape)\n",
    "print(y_train[1])\n",
    "\n"
   ]
  },
  {
   "cell_type": "code",
   "execution_count": 12,
   "id": "08072ba4-47cc-4b3b-9dde-27296591053f",
   "metadata": {},
   "outputs": [
    {
     "ename": "NameError",
     "evalue": "name 'rarr' is not defined",
     "output_type": "error",
     "traceback": [
      "\u001b[1;31m---------------------------------------------------------------------------\u001b[0m",
      "\u001b[1;31mNameError\u001b[0m                                 Traceback (most recent call last)",
      "Cell \u001b[1;32mIn[12], line 3\u001b[0m\n\u001b[0;32m      1\u001b[0m \u001b[38;5;28;01mimport\u001b[39;00m\u001b[38;5;250m \u001b[39m\u001b[38;5;21;01mmatplotlib\u001b[39;00m\u001b[38;5;21;01m.\u001b[39;00m\u001b[38;5;21;01mpyplot\u001b[39;00m\u001b[38;5;250m \u001b[39m\u001b[38;5;28;01mas\u001b[39;00m\u001b[38;5;250m \u001b[39m\u001b[38;5;21;01mplt\u001b[39;00m\n\u001b[0;32m      2\u001b[0m plt\u001b[38;5;241m.\u001b[39msubplots_adjust(wspace\u001b[38;5;241m=\u001b[39m\u001b[38;5;241m1\u001b[39m,hspace\u001b[38;5;241m=\u001b[39m\u001b[38;5;241m0.001\u001b[39m)\n\u001b[1;32m----> 3\u001b[0m \u001b[38;5;28;01mfor\u001b[39;00m ix,data \u001b[38;5;129;01min\u001b[39;00m \u001b[38;5;28menumerate\u001b[39m(\u001b[43mrarr\u001b[49m):\n\u001b[0;32m      4\u001b[0m     plt\u001b[38;5;241m.\u001b[39msubplot(\u001b[38;5;241m2\u001b[39m,\u001b[38;5;241m5\u001b[39m,ix\u001b[38;5;241m+\u001b[39m\u001b[38;5;241m1\u001b[39m)\n\u001b[0;32m      5\u001b[0m     plt\u001b[38;5;241m.\u001b[39mimshow(x_test[data],cmap\u001b[38;5;241m=\u001b[39m\u001b[38;5;124m\"\u001b[39m\u001b[38;5;124mgray\u001b[39m\u001b[38;5;124m\"\u001b[39m)\n",
      "\u001b[1;31mNameError\u001b[0m: name 'rarr' is not defined"
     ]
    },
    {
     "data": {
      "text/plain": [
       "<Figure size 640x480 with 0 Axes>"
      ]
     },
     "metadata": {},
     "output_type": "display_data"
    }
   ],
   "source": [
    "import matplotlib.pyplot as plt\n",
    "plt.subplots_adjust(wspace=1,hspace=0.001)\n",
    "for ix,data in enumerate(rarr):\n",
    "    plt.subplot(2,5,ix+1)\n",
    "    plt.imshow(x_test[data],cmap=\"gray\")\n",
    "    clr = y_test_label[data]==y_pred_label[data]\n",
    "    plt.title(\"True:\"+y_test_label[data])\n",
    "    plt.xlabel(\"Pred:\"+y_pred_label[data],color= (\"blue\" if clr else \"red\"))\n",
    "    plt.xticks([]);plt.yticks([])\n",
    "plt.show()"
   ]
  },
  {
   "cell_type": "code",
   "execution_count": null,
   "id": "ec4ff565-2b6a-4529-bb0a-e9e2dbc17d9d",
   "metadata": {},
   "outputs": [],
   "source": [
    "#3. 정답데이터 원핫 인코딩\n",
    "#tf.one_hot(데이터, 구분클래스수량)\n",
    "#tf.keras.utils.to_categorical(데이터, num_classes=구분클래스수량)\n",
    "import sklearn\n",
    "# print(y_train[5])\n",
    "# print(tf.one_hot(y_train,10)[5])\n",
    "# 원핫인코딩 , 정수변경 모두 가능, 정답레이블로 변환기능\n",
    "# encoder = sklearn.preprocessing.OneHotEncoder(sparse_output=False)\n",
    "# test_fit_data =  np.array([\"T-shirt/top\",\"Trouser\",\"Pullove\"])\n",
    "# test_y_data = np.array([\"T-shirt/top\",\"Trouser\",\"Pullove\",\"Pullove\",\"T-shirt/top\"])\n",
    "# encoder = encoder.fit(test_fit_data.reshape(len(test_fit_data),1))\n",
    "# #env = encoder.fit_transform(test_y_data.reshape(len(test_y_data),1))\n",
    "# env = encoder.transform(test_y_data.reshape(len(test_y_data),1))\n",
    "# print(\"---------\")\n",
    "# print(env)\n",
    "# print(encoder.get_feature_names_out())\n",
    "# # print(dir(encoder))\n",
    "# print(encoder.inverse_transform(np.array([[0., 0., 1.,],[1., 0., 0.]])))\n",
    "# encoder.set_params(sparse_output=True)\n",
    "# env = encoder.transform(test_y_data.reshape(len(test_y_data),1))\n",
    "# print(env)\n",
    "# print(y_train[:10])"
   ]
  },
  {
   "cell_type": "code",
   "execution_count": null,
   "id": "d59a1b35-9990-479d-b0e8-0f57b0c6f5bf",
   "metadata": {},
   "outputs": [],
   "source": [
    "# y_train = tf.one_hot(y_train,10)\n",
    "# y_test = tf.one_hot(y_test,10)\n",
    "from custom_encoder import CustomEncoder\n",
    "encoder = CustomEncoder()\n",
    "print(y_train.shape)\n",
    "y_train = np.array(encoder.integer_to_one_hot(y_train,y_labels))\n",
    "y_test = np.array(encoder.integer_to_one_hot(y_test,y_labels))\n",
    "print(y_train.shape)\n",
    "res = y_train[0]\n",
    "print(y_train[0])\n",
    "print(encoder.one_hot_to_label([res])) "
   ]
  },
  {
   "cell_type": "code",
   "execution_count": null,
   "id": "b194f01a-3818-4335-ae3d-14bfd6f0ec6a",
   "metadata": {},
   "outputs": [],
   "source": [
    "from tensorflow.keras.layers import Flatten\n",
    "model = Sequential()\n",
    "model.add(Input((28,28)))\n",
    "model.add(Flatten())# 728 개의 벡터로 변형 ( 완전연결층 )\n",
    "model.add(Dense(10,activation=\"softmax\"))\n",
    "model.compile(loss=\"categorical_crossentropy\",optimizer=\"SGD\",metrics=[\"acc\"])\n",
    "fhist = model.fit(x_train,y_train,validation_split=0.2,epochs=200,batch_size=5000)"
   ]
  },
  {
   "cell_type": "code",
   "execution_count": null,
   "id": "0e0af679-e6eb-48c0-8691-ff843231ad6b",
   "metadata": {},
   "outputs": [],
   "source": [
    "plt.subplot(1,2,1)\n",
    "plt.plot(fhist.history[\"acc\"],label=\"train_acc\")\n",
    "plt.plot(fhist.history[\"val_acc\"],label=\"valid_acc\")\n",
    "plt.legend()\n",
    "plt.subplot(1,2,2)\n",
    "plt.plot(fhist.history[\"loss\"],label=\"train_los\")\n",
    "plt.plot(fhist.history[\"val_loss\"],label=\"valid_los\")\n",
    "plt.legend()\n",
    "plt.show()"
   ]
  },
  {
   "cell_type": "code",
   "execution_count": null,
   "id": "bb33e735-79f6-4775-bc2d-d34b2d2cdb48",
   "metadata": {},
   "outputs": [],
   "source": [
    "res = model.evaluate(x_test,y_test)\n",
    "print(\"손실도:\",res[0],\" 정확률:\",int(res[1]*10000)/100,\"%\")"
   ]
  },
  {
   "cell_type": "code",
   "execution_count": null,
   "id": "72210a6e-1dfa-454a-8f22-820f18d6e821",
   "metadata": {},
   "outputs": [],
   "source": [
    "y_pred = model.predict(x_test)\n",
    "print(y_test.shape)\n",
    "print(y_pred.shape)\n",
    "y_test_label = encoder.one_hot_to_label(y_test)\n",
    "y_pred_label = encoder.one_hot_to_label(y_pred)\n",
    "print(y_test_label[:5])\n",
    "print(y_pred_label[:5])"
   ]
  },
  {
   "cell_type": "code",
   "execution_count": null,
   "id": "0ff70add-de57-4763-b22b-27ed803194bf",
   "metadata": {},
   "outputs": [],
   "source": [
    "#정답레이블로 변경\n",
    "# 실제정답 레이블링\n",
    "def conv_label(c_data):\n",
    "    y_ix = np.array([np.argmax(data) for data in c_data])#원핫인코딩을 정수로 변경\n",
    "    y_conv = np.array([y_labels[d] for d in y_ix])#변경된 정수를 레이블 인덱스로 레이블 명 인출\n",
    "    print(y_true[:10])\n",
    "    return y_conv"
   ]
  },
  {
   "cell_type": "code",
   "execution_count": null,
   "id": "efd0ab49-5d66-4e19-b087-9527599d741a",
   "metadata": {},
   "outputs": [],
   "source": [
    "#정답레이블로 변경\n",
    "# 실제정답 레이블링\n",
    "# def conv_label(c_data):\n",
    "#     y_ix = np.array([np.argmax(data) for data in c_data])#원핫인코딩을 정수로 변경\n",
    "#     y_conv = np.array([y_labels[d] for d in y_ix])#변경된 정수를 레이블 인덱스로 레이블 명 인출\n",
    "#     print(y_true[:10])\n",
    "#     return y_conv\n",
    "# y_test_conv = conv_label(y_test)\n",
    "# y_pred_conv = conv_label(y_pred)\n",
    "# print(y_test_conv[:10])\n",
    "# print(y_pred_conv[:10])\n"
   ]
  },
  {
   "cell_type": "code",
   "execution_count": null,
   "id": "bab0bfa5-6c14-49c0-a907-10499e9e64f2",
   "metadata": {},
   "outputs": [],
   "source": [
    "np.random.seed(123)\n",
    "rarr = np.random.randint(0,len(y_test_label),10)\n",
    "print(rarr)"
   ]
  },
  {
   "cell_type": "code",
   "execution_count": null,
   "id": "76408ba5-ce74-4210-878a-8a82ab113a9c",
   "metadata": {},
   "outputs": [],
   "source": [
    "plt.subplots_adjust(wspace=1,hspace=0.001)\n",
    "for ix,data in enumerate(rarr):\n",
    "    plt.subplot(2,5,ix+1)\n",
    "    plt.imshow(x_test[data],cmap=\"gray\")\n",
    "    clr = y_test_label[data]==y_pred_label[data]\n",
    "    plt.title(\"True:\"+y_test_label[data])\n",
    "    plt.xlabel(\"Pred:\"+y_pred_label[data],color= (\"blue\" if clr else \"red\"))\n",
    "    plt.xticks([]);plt.yticks([])\n",
    "plt.show()"
   ]
  },
  {
   "cell_type": "code",
   "execution_count": null,
   "id": "7c46016a-d487-434f-a51d-9b7950f16b99",
   "metadata": {},
   "outputs": [],
   "source": [
    "tf.keras.models.save_model(model, r\"./save_model/fashion_mnist_classification.keras\")"
   ]
  },
  {
   "cell_type": "code",
   "execution_count": null,
   "id": "1852b33c-7aac-4b72-8bf7-cbe2fff27c1c",
   "metadata": {},
   "outputs": [],
   "source": [
    "import pickle\n",
    "with open(r\"./save_model/fashion_mnist.classification_encoder\",\"wb\") as fp:\n",
    "    pickle.dump(encoder,fp)"
   ]
  },
  {
   "cell_type": "code",
   "execution_count": null,
   "id": "c602e712-df5d-4be4-9fe2-bc1341b1fb7a",
   "metadata": {},
   "outputs": [],
   "source": [
    "import pickle\n",
    "with open(r\"./save_model/fashion_mnist.classification_encoder\",\"rb\") as fp:\n",
    "    encoder = pickle.load(fp)"
   ]
  }
 ],
 "metadata": {
  "kernelspec": {
   "display_name": "Python 3 (ipykernel)",
   "language": "python",
   "name": "python3"
  },
  "language_info": {
   "codemirror_mode": {
    "name": "ipython",
    "version": 3
   },
   "file_extension": ".py",
   "mimetype": "text/x-python",
   "name": "python",
   "nbconvert_exporter": "python",
   "pygments_lexer": "ipython3",
   "version": "3.9.0"
  }
 },
 "nbformat": 4,
 "nbformat_minor": 5
}
