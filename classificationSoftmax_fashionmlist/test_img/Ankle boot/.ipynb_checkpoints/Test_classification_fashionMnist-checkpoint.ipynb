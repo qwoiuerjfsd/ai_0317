{
 "cells": [
  {
   "cell_type": "code",
   "execution_count": 5,
   "id": "f8e51415-ca5a-4092-ac02-b96330b3c64a",
   "metadata": {},
   "outputs": [
    {
     "name": "stdout",
     "output_type": "stream",
     "text": [
      "Model: \"sequential\"\n",
      "_________________________________________________________________\n",
      " Layer (type)                Output Shape              Param #   \n",
      "=================================================================\n",
      " flatten (Flatten)           (None, 784)               0         \n",
      "                                                                 \n",
      " dense (Dense)               (None, 10)                7850      \n",
      "                                                                 \n",
      "=================================================================\n",
      "Total params: 7,850\n",
      "Trainable params: 7,850\n",
      "Non-trainable params: 0\n",
      "_________________________________________________________________\n"
     ]
    }
   ],
   "source": [
    "#Test_classification_fashionMnist\n",
    "import tensorflow as tf\n",
    "model = tf.keras.models.load_model( r\"../save_model/fashion_mnist_classification.keras\")\n",
    "model.summary()"
   ]
  },
  {
   "cell_type": "code",
   "execution_count": null,
   "id": "b8315a92-b274-4ac2-b8bb-625c1d79fa92",
   "metadata": {},
   "outputs": [],
   "source": [
    "import pickle\n",
    "encoder=None\n",
    "with open(r\"./save_model/fashion_mnist.classification_encoder\",\"rb\") as fp:\n",
    "    encoder = pickle.load(fp)\n",
    "print(encoder.one_hot_to_label([[0,1,0,0,0,0,0,0,0,0]]))\n"
   ]
  },
  {
   "cell_type": "code",
   "execution_count": null,
   "id": "7d58cb90-a4b9-47df-a3a6-6b676a01b190",
   "metadata": {},
   "outputs": [],
   "source": [
    "datasets = tf.keras.preprocessing.image_dataset_from_directory(\n",
    "    r\"D:\\jupyter_work\\data\\test_img\",\n",
    "    labels=None,\n",
    "    color_mode='grayscale',\n",
    "    image_size=(28, 28),\n",
    "    interpolation='nearest')\n",
    "print(type(datasets))\n",
    "import numpy as np\n",
    "x_real = np.array([ d for d in datasets][0])\n",
    "x_real = x_real.reshape(len(x_real),28,28)\n",
    "x_real = 255.-x_real\n",
    "print(x_real.shape)\n",
    "for data in x_real:\n",
    "    bakcolor_value = max(data[0]) if max(data[0]) - max(data[-1]) > 0 else max(data[-1])\n",
    "    maskdata = data>bakcolor_value\n",
    "    data = data[maskdata]\n",
    "    print(data[0])"
   ]
  },
  {
   "cell_type": "code",
   "execution_count": null,
   "id": "2010030f-e1e3-47d6-acdc-21efcf09510c",
   "metadata": {},
   "outputs": [],
   "source": [
    "import matplotlib.pyplot as plt\n",
    "y_real=[]\n",
    "label_list = [\"T-shirt/top\",\"Trouser\",\"Pullover\",\"Dress\",\"Coat\",\n",
    "            \"Sandal\",\"Shirt\",\"Sneaker\",\"Bag\",\"Ankle boot\"]\n",
    "plt.figure(figsize=(1,1))\n",
    "for ix in range(len(x_real)):\n",
    "    plt.imshow(x_real[ix])\n",
    "    plt.xticks([]);plt.yticks([])\n",
    "    plt.show()\n",
    "    for i in range(len(label_list)):\n",
    "        print(f\"{i+1}. {label_list[i]}\\t\",end=\"\")\n",
    "    print()\n",
    "    usersel = input(\"이미지 정답 라벨 번호를 입력하세요\\n\")\n",
    "    y_real.append(label_list[int(usersel)-1])\n",
    "print(y_real)\n",
    "    "
   ]
  },
  {
   "cell_type": "code",
   "execution_count": null,
   "id": "0e2efa98-e8aa-4967-8f94-2911eadfc328",
   "metadata": {},
   "outputs": [],
   "source": []
  }
 ],
 "metadata": {
  "kernelspec": {
   "display_name": "Python 3 (ipykernel)",
   "language": "python",
   "name": "python3"
  },
  "language_info": {
   "codemirror_mode": {
    "name": "ipython",
    "version": 3
   },
   "file_extension": ".py",
   "mimetype": "text/x-python",
   "name": "python",
   "nbconvert_exporter": "python",
   "pygments_lexer": "ipython3",
   "version": "3.9.0"
  }
 },
 "nbformat": 4,
 "nbformat_minor": 5
}
